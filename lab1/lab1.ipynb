{
 "cells": [
  {
   "cell_type": "code",
   "execution_count": 84,
   "metadata": {},
   "outputs": [],
   "source": [
    "import random"
   ]
  },
  {
   "attachments": {},
   "cell_type": "markdown",
   "metadata": {},
   "source": [
    "Генератори: "
   ]
  },
  {
   "cell_type": "code",
   "execution_count": 85,
   "metadata": {},
   "outputs": [],
   "source": [
    "m = 2 ** 32\n",
    "a = 2 ** 16 + 1\n",
    "c = 119 \n",
    "\n",
    "#Вбудований:\n",
    "def integrated_gen(n):\n",
    "    seq = []\n",
    "    for i in range(n):\n",
    "        seq.append(random.randint(0, 255))\n",
    "    return seq\n",
    "\n",
    "#Лемера:\n",
    "def lemer_gen(state, x_0, n):\n",
    "    i = 0\n",
    "    x_i = 0\n",
    "    while i != n:\n",
    "        x_i = (a * x_0 + c) % m\n",
    "        x_0 = x_i\n",
    "        i += 1\n",
    "    print(x_i)\n",
    "    if state == \"low\":\n",
    "        return x_i % (2**8)\n",
    "    elif \"high\": \n",
    "        return (x_i >> 24)\n",
    "\n",
    "#L20       \n",
    "def l20_gen(t):\n",
    "    seq = []\n",
    "    for i in range(20):\n",
    "        seq.append(random.randint(0, 1))\n",
    "    for j in range(20, t):\n",
    "        seq.append(seq[j - 3] ^ seq[j - 5] ^ seq[j - 9] ^ seq[j - 20])\n",
    "    return seq\n",
    "\n",
    "#L89\n",
    "def l89_gen(t):\n",
    "    seq = []\n",
    "    for i in range(89):\n",
    "        seq.append(random.randint(0, 1))\n",
    "    for j in range(89, t):\n",
    "        seq.append(seq[j - 38] ^ seq[j - 89])\n",
    "    return seq\n",
    "\n",
    "#Geffe\n",
    "def geffe_gen():\n"
   ]
  },
  {
   "cell_type": "code",
   "execution_count": 86,
   "metadata": {},
   "outputs": [
    {
     "name": "stdout",
     "output_type": "stream",
     "text": [
      "78316116\n",
      "84\n"
     ]
    }
   ],
   "source": [
    "print(lemer_gen(\"low\", 1, 5))\n",
    "\n"
   ]
  }
 ],
 "metadata": {
  "kernelspec": {
   "display_name": "Python 3",
   "language": "python",
   "name": "python3"
  },
  "language_info": {
   "codemirror_mode": {
    "name": "ipython",
    "version": 3
   },
   "file_extension": ".py",
   "mimetype": "text/x-python",
   "name": "python",
   "nbconvert_exporter": "python",
   "pygments_lexer": "ipython3",
   "version": "3.11.4"
  },
  "orig_nbformat": 4
 },
 "nbformat": 4,
 "nbformat_minor": 2
}
