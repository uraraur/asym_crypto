{
 "cells": [
  {
   "cell_type": "code",
   "execution_count": 48,
   "metadata": {},
   "outputs": [],
   "source": [
    "import random\n",
    "import numpy as np  \n",
    "import scipy\n",
    "from math import sqrt"
   ]
  },
  {
   "cell_type": "code",
   "execution_count": 7,
   "metadata": {},
   "outputs": [],
   "source": [
    "alpha = 0.05\n",
    "n = 1000000\n",
    "\n",
    "def cyclic_right_shift(num, k, n):\n",
    "    return (num >> k) | (num << (n - k))\n",
    "\n",
    "def cyclic_left_shift(num, k, n):\n",
    "    return (num << k) | (num >> (n - k))\n",
    "\n",
    "def bits_to_bytes(a):\n",
    "    i = 0\n",
    "    res = []\n",
    "    for i in range(0, len(a) - 1, 8):\n",
    "        x = a[i:i + 8]\n",
    "        y = 0\n",
    "        for j in range(len(x)):\n",
    "            y += 2 ** j * x[j]\n",
    "        res.append(y)   \n",
    "    return res"
   ]
  },
  {
   "cell_type": "markdown",
   "metadata": {},
   "source": [
    "Тести:"
   ]
  },
  {
   "cell_type": "code",
   "execution_count": 8,
   "metadata": {},
   "outputs": [],
   "source": [
    "def uniformity_test(Y):\n",
    "    R = {}\n",
    "    n = len(Y) / 256\n",
    "    X2 = 0 \n",
    "    for i in range(256):\n",
    "        R[i] = 0\n",
    "    for y in Y:\n",
    "        R[y] += 1\n",
    "        X2 += (R[y] - n) ** 2 / n\n",
    "    X2_l = sqrt(2 * 255) * scipy.stats.norm.ppf(1 - alpha) + 255\n",
    "    if X2 <= X2_l:\n",
    "        return 0\n",
    "    return 1\n",
    "\n",
    "def independence_test(Y):\n",
    "    R = {}\n",
    "    n = round(len(Y) / 2)\n",
    "    i = len(Y) - 1\n",
    "    for i in range(256):\n",
    "        for j in range(256):\n",
    "            R[i, j] = 0\n",
    "    while 2 * i >= 1:\n",
    "        R[Y[2*i - 1], Y[2 * i]] += 1\n",
    "        i = i - 1\n",
    "    X2 = 0\n",
    "    for i in range(256):\n",
    "        v_i = 0\n",
    "        for j in range(256):\n",
    "            a_j = 0\n",
    "            if R[i,j] != 0:\n",
    "                for k in R.keys():\n",
    "                    if k[0] == i:\n",
    "                        v_i += R[k]\n",
    "                for k in R.keys():\n",
    "                    if k[1] == j:\n",
    "                        a_j += R[k]\n",
    "                X2 += R[i,j] / v_i * a_j\n",
    "    X2 = n * (X2 - 1)\n",
    "    X2_l = sqrt(2 * 255 ** 2) * scipy.stats.norm.ppf(1 - alpha) + 255 ** 2\n",
    "    if X2 <= X2_l:\n",
    "        return 0\n",
    "    return 1        \n",
    "\n",
    "def homogeneity_test(Y):\n",
    "    R = {}\n",
    "    r = 100\n",
    "    m_len = round(len(Y) / r)\n",
    "    n = m_len * r\n",
    "    for i in range(256):\n",
    "        R[i] = 0\n",
    "    for y in Y:\n",
    "        R[y] += 1\n",
    "    X2 = 0\n",
    "    for i in range(256):\n",
    "        if R[i] != 0:\n",
    "            t = 0\n",
    "            for j in range(1, r):\n",
    "                temp = Y[(r-1) * m_len : r * m_len]\n",
    "                for s in temp: \n",
    "                    if s == i: \n",
    "                        t += 1\n",
    "                X2 += t ** 2 / R[i] * m_len \n",
    "    X2 = n * (X2 - 1)\n",
    "    X2_l = sqrt(2 * 255 * (r - 1)) * scipy.stats.norm.ppf(1 - alpha) +  255 * (r - 1)\n",
    "    if X2 <= X2_l:\n",
    "        return 0\n",
    "    return 1           \n",
    "\n",
    "def test(Y):\n",
    "    if uniformity_test(Y):\n",
    "        print(\"Всі байти рівноімовірні.\")\n",
    "    else: print(\"1. :(\")\n",
    "    if independence_test(Y):\n",
    "        print(\"Всі байти незалежні.\")\n",
    "    else: print(\"2. :(\")\n",
    "    if homogeneity_test(Y):\n",
    "        print(\"Послідовність однорідна\")\n",
    "    else: print(\"3. :(\")"
   ]
  },
  {
   "attachments": {},
   "cell_type": "markdown",
   "metadata": {},
   "source": [
    "Генератори: "
   ]
  },
  {
   "cell_type": "code",
   "execution_count": 49,
   "metadata": {},
   "outputs": [
    {
     "name": "stdout",
     "output_type": "stream",
     "text": [
      "Вбудований генератор:\n",
      "Всі байти рівноімовірні.\n",
      "Всі байти незалежні.\n",
      "Unexpected exception formatting exception. Falling back to standard exception\n"
     ]
    },
    {
     "name": "stderr",
     "output_type": "stream",
     "text": [
      "Traceback (most recent call last):\n",
      "  File \"C:\\Users\\masha\\AppData\\Local\\Packages\\PythonSoftwareFoundation.Python.3.10_qbz5n2kfra8p0\\LocalCache\\local-packages\\Python310\\site-packages\\IPython\\core\\interactiveshell.py\", line 3378, in run_code\n",
      "    exec(code_obj, self.user_global_ns, self.user_ns)\n",
      "  File \"C:\\Users\\masha\\AppData\\Local\\Temp\\ipykernel_14156\\329776554.py\", line 7, in <module>\n",
      "    test(integrated_gen(n))\n",
      "  File \"C:\\Users\\masha\\AppData\\Local\\Temp\\ipykernel_14156\\1231616181.py\", line 76, in test\n",
      "    if homogeneity_test(Y):\n",
      "  File \"C:\\Users\\masha\\AppData\\Local\\Temp\\ipykernel_14156\\1231616181.py\", line -1, in homogeneity_test\n",
      "KeyboardInterrupt\n",
      "\n",
      "During handling of the above exception, another exception occurred:\n",
      "\n",
      "Traceback (most recent call last):\n",
      "  File \"C:\\Users\\masha\\AppData\\Local\\Packages\\PythonSoftwareFoundation.Python.3.10_qbz5n2kfra8p0\\LocalCache\\local-packages\\Python310\\site-packages\\IPython\\core\\interactiveshell.py\", line 1997, in showtraceback\n",
      "    stb = self.InteractiveTB.structured_traceback(\n",
      "  File \"C:\\Users\\masha\\AppData\\Local\\Packages\\PythonSoftwareFoundation.Python.3.10_qbz5n2kfra8p0\\LocalCache\\local-packages\\Python310\\site-packages\\IPython\\core\\ultratb.py\", line 1112, in structured_traceback\n",
      "    return FormattedTB.structured_traceback(\n",
      "  File \"C:\\Users\\masha\\AppData\\Local\\Packages\\PythonSoftwareFoundation.Python.3.10_qbz5n2kfra8p0\\LocalCache\\local-packages\\Python310\\site-packages\\IPython\\core\\ultratb.py\", line 1006, in structured_traceback\n",
      "    return VerboseTB.structured_traceback(\n",
      "  File \"C:\\Users\\masha\\AppData\\Local\\Packages\\PythonSoftwareFoundation.Python.3.10_qbz5n2kfra8p0\\LocalCache\\local-packages\\Python310\\site-packages\\IPython\\core\\ultratb.py\", line 859, in structured_traceback\n",
      "    formatted_exception = self.format_exception_as_a_whole(etype, evalue, etb, number_of_lines_of_context,\n",
      "  File \"C:\\Users\\masha\\AppData\\Local\\Packages\\PythonSoftwareFoundation.Python.3.10_qbz5n2kfra8p0\\LocalCache\\local-packages\\Python310\\site-packages\\IPython\\core\\ultratb.py\", line 812, in format_exception_as_a_whole\n",
      "    frames.append(self.format_record(r))\n",
      "  File \"C:\\Users\\masha\\AppData\\Local\\Packages\\PythonSoftwareFoundation.Python.3.10_qbz5n2kfra8p0\\LocalCache\\local-packages\\Python310\\site-packages\\IPython\\core\\ultratb.py\", line 730, in format_record\n",
      "    result += ''.join(_format_traceback_lines(frame_info.lines, Colors, self.has_colors, lvals))\n",
      "  File \"C:\\Users\\masha\\AppData\\Local\\Packages\\PythonSoftwareFoundation.Python.3.10_qbz5n2kfra8p0\\LocalCache\\local-packages\\Python310\\site-packages\\stack_data\\utils.py\", line 145, in cached_property_wrapper\n",
      "    value = obj.__dict__[self.func.__name__] = self.func(obj)\n",
      "  File \"C:\\Users\\masha\\AppData\\Local\\Packages\\PythonSoftwareFoundation.Python.3.10_qbz5n2kfra8p0\\LocalCache\\local-packages\\Python310\\site-packages\\stack_data\\core.py\", line 734, in lines\n",
      "    pieces = self.included_pieces\n",
      "  File \"C:\\Users\\masha\\AppData\\Local\\Packages\\PythonSoftwareFoundation.Python.3.10_qbz5n2kfra8p0\\LocalCache\\local-packages\\Python310\\site-packages\\stack_data\\utils.py\", line 145, in cached_property_wrapper\n",
      "    value = obj.__dict__[self.func.__name__] = self.func(obj)\n",
      "  File \"C:\\Users\\masha\\AppData\\Local\\Packages\\PythonSoftwareFoundation.Python.3.10_qbz5n2kfra8p0\\LocalCache\\local-packages\\Python310\\site-packages\\stack_data\\core.py\", line 681, in included_pieces\n",
      "    pos = scope_pieces.index(self.executing_piece)\n",
      "  File \"C:\\Users\\masha\\AppData\\Local\\Packages\\PythonSoftwareFoundation.Python.3.10_qbz5n2kfra8p0\\LocalCache\\local-packages\\Python310\\site-packages\\stack_data\\utils.py\", line 145, in cached_property_wrapper\n",
      "    value = obj.__dict__[self.func.__name__] = self.func(obj)\n",
      "  File \"C:\\Users\\masha\\AppData\\Local\\Packages\\PythonSoftwareFoundation.Python.3.10_qbz5n2kfra8p0\\LocalCache\\local-packages\\Python310\\site-packages\\stack_data\\core.py\", line 660, in executing_piece\n",
      "    return only(\n",
      "  File \"C:\\Users\\masha\\AppData\\Local\\Packages\\PythonSoftwareFoundation.Python.3.10_qbz5n2kfra8p0\\LocalCache\\local-packages\\Python310\\site-packages\\executing\\executing.py\", line 168, in only\n",
      "    raise NotOneValueFound('Expected one value, found 0')\n",
      "executing.executing.NotOneValueFound: Expected one value, found 0\n"
     ]
    }
   ],
   "source": [
    "#Вбудований:\n",
    "def integrated_gen(n):\n",
    "    seq = np.random.randint(256, size=(n))\n",
    "    return seq\n",
    "\n",
    "print(\"Вбудований генератор:\")\n",
    "test(integrated_gen(n))"
   ]
  },
  {
   "cell_type": "code",
   "execution_count": null,
   "metadata": {},
   "outputs": [
    {
     "name": "stdout",
     "output_type": "stream",
     "text": [
      "Генератор Лемера low\n",
      "Всі байти рівноімовірні.\n",
      "Всі байти незалежні.\n",
      "Послідовність однорідна\n",
      "Генератор Лемера high\n",
      "Всі байти рівноімовірні.\n",
      "Всі байти незалежні.\n",
      "Послідовність однорідна\n"
     ]
    }
   ],
   "source": [
    "#Лемера:\n",
    "def lemer_gen(state, t):\n",
    "    m = 2 ** 32\n",
    "    a = 2 ** 16 + 1\n",
    "    c = 119 \n",
    "    seq = []\n",
    "    i = 0\n",
    "    x_i = 0\n",
    "    x_0 = random.randint(1, m)\n",
    "    while i != t:\n",
    "        x_i = (a * x_0 + c) % m\n",
    "        x_0 = x_i\n",
    "        i += 1\n",
    "        if state == \"low\":\n",
    "            seq.append(x_i % (2**8))\n",
    "        elif \"high\": \n",
    "            seq.append(x_i >> 24)\n",
    "    return seq \n",
    "\n",
    "\n",
    "print(\"Генератор Лемера low\")\n",
    "test(lemer_gen(\"low\", n))\n",
    "\n",
    "print(\"Генератор Лемера high\")\n",
    "test(lemer_gen(\"high\", n))"
   ]
  },
  {
   "cell_type": "code",
   "execution_count": null,
   "metadata": {},
   "outputs": [
    {
     "name": "stdout",
     "output_type": "stream",
     "text": [
      "Генератор L20\n",
      "Всі байти рівноімовірні.\n",
      "Всі байти незалежні.\n",
      "Послідовність однорідна\n"
     ]
    }
   ],
   "source": [
    "#L20       \n",
    "def l20_gen(t):\n",
    "    seq = [0] * 8 * t\n",
    "    for i in range(20):\n",
    "        seq[i] = np.random.randint(2)\n",
    "    for j in range(20, 8 * t):\n",
    "        seq[j] = seq[j - 3] ^ seq[j - 5] ^ seq[j - 9] ^ seq[j - 20]\n",
    "    return bits_to_bytes(seq)\n",
    "\n",
    "print(\"Генератор L20\")\n",
    "test(l20_gen(n))    "
   ]
  },
  {
   "cell_type": "code",
   "execution_count": null,
   "metadata": {},
   "outputs": [
    {
     "name": "stdout",
     "output_type": "stream",
     "text": [
      "Генератор L89\n",
      "Всі байти рівноімовірні.\n",
      "Всі байти незалежні.\n",
      "Послідовність однорідна\n"
     ]
    }
   ],
   "source": [
    "#L89\n",
    "def l89_gen(t):\n",
    "    seq = [0] * 8 * t\n",
    "    for i in range(89):\n",
    "        seq[i] = np.random.randint(2)\n",
    "    for j in range(89, 8 * t):\n",
    "        seq[j] = seq[j - 38] ^ seq[j - 89]\n",
    "    return bits_to_bytes(seq)\n",
    "\n",
    "print(\"Генератор L89\")\n",
    "test(l89_gen(n))    "
   ]
  },
  {
   "cell_type": "code",
   "execution_count": null,
   "metadata": {},
   "outputs": [
    {
     "name": "stdout",
     "output_type": "stream",
     "text": [
      "Генератор Джиффі\n",
      "Всі байти рівноімовірні.\n",
      "Всі байти незалежні.\n",
      "Послідовність однорідна\n"
     ]
    }
   ],
   "source": [
    "#Geffe\n",
    "def geffe_gen(t):\n",
    "    \n",
    "    x = np.random.randint(2, size=(10))\n",
    "    x = np.concatenate((x, np.zeros(8 * t - 10, dtype=int)))\n",
    "    y = np.random.randint(2, size=(8))\n",
    "    y = np.concatenate((y, np.zeros(8 * t - 8, dtype=int)))\n",
    "    s = np.random.randint(2, size=(9))\n",
    "    s = np.concatenate((s, np.zeros(8 * t - 9, dtype=int)))\n",
    "    z = np.zeros(8 * t)\n",
    "    for i in range(11, 8 * t):\n",
    "        x[i] = (x[i - 11] ^ x[i - 9])\n",
    "    for i in range(9, 8 * t):\n",
    "        y[i] = (y[i - 9] ^ y[i - 8] ^ y[i - 7] ^ y[i - 6])\n",
    "    for i in range(10, 8 * t):\n",
    "        s[i] = (s[i - 10] ^ s[i - 7])\n",
    "    z = s & x ^ (1 ^ s) & y\n",
    "    return bits_to_bytes(z)\n",
    "\n",
    "print(\"Генератор Джиффі\")\n",
    "test(geffe_gen(n))    "
   ]
  },
  {
   "cell_type": "code",
   "execution_count": null,
   "metadata": {},
   "outputs": [
    {
     "name": "stdout",
     "output_type": "stream",
     "text": [
      "Генератор Вольфрама\n",
      "Всі байти рівноімовірні.\n",
      "Всі байти незалежні.\n",
      "Послідовність однорідна\n"
     ]
    }
   ],
   "source": [
    "#Wolfram\n",
    "def wolfram_gen(t):\n",
    "    r = np.zeros(t, dtype=int)\n",
    "    r[0] = random.randint(1, (2 ** 32) - 1)\n",
    "    seq = np.zeros(t)\n",
    "    seq[0] = r[0] % 2\n",
    "    for i in range(t):\n",
    "        r[i] = (cyclic_left_shift(r[i - 1], 1, 32) ^ (r[i - 1] | (cyclic_right_shift(r[i], 1, 32))))\n",
    "        seq[i] = r[i] % 2\n",
    "    return seq\n",
    "\n",
    "print(\"Генератор Вольфрама\")\n",
    "test(wolfram_gen(n))  "
   ]
  },
  {
   "cell_type": "code",
   "execution_count": null,
   "metadata": {},
   "outputs": [
    {
     "name": "stdout",
     "output_type": "stream",
     "text": [
      "Генератор Бібліотекар\n",
      "Всі байти рівноімовірні.\n",
      "Всі байти незалежні.\n",
      "Послідовність однорідна\n"
     ]
    }
   ],
   "source": [
    "#Бібліотекар\n",
    "def librarian_gen(n, name_f):\n",
    "    f = open(name_f, 'r', encoding='utf-8')\n",
    "    text = f.read()\n",
    "    f.close()\n",
    "    seq_b = bytes(text, 'utf-8')\n",
    "    seq = np.zeros(n)\n",
    "    for i in range(n):\n",
    "        seq[i] = seq_b[i]\n",
    "    #for s in seq:\n",
    "    #    print(s)\n",
    "    return seq\n",
    "\n",
    "print(\"Генератор Бібліотекар\")\n",
    "test(librarian_gen(n, \"Rocky Horror Hawkins.txt\"))  "
   ]
  },
  {
   "cell_type": "code",
   "execution_count": 72,
   "metadata": {},
   "outputs": [
    {
     "name": "stdout",
     "output_type": "stream",
     "text": [
      "Генератор Блюма-Мікалі\n",
      "1\n"
     ]
    },
    {
     "ename": "KeyError",
     "evalue": "2.438235082348006e+76",
     "output_type": "error",
     "traceback": [
      "\u001b[1;31m---------------------------------------------------------------------------\u001b[0m",
      "\u001b[1;31mKeyError\u001b[0m                                  Traceback (most recent call last)",
      "\u001b[1;32mh:\\ААА\\asym_crypto\\lab1\\lab1.ipynb Cell 13\u001b[0m line \u001b[0;36m1\n\u001b[0;32m     <a href='vscode-notebook-cell:/h%3A/%D0%90%D0%90%D0%90/asym_crypto/lab1/lab1.ipynb#X22sZmlsZQ%3D%3D?line=12'>13</a>\u001b[0m     \u001b[39mreturn\u001b[39;00m seq\n\u001b[0;32m     <a href='vscode-notebook-cell:/h%3A/%D0%90%D0%90%D0%90/asym_crypto/lab1/lab1.ipynb#X22sZmlsZQ%3D%3D?line=14'>15</a>\u001b[0m \u001b[39mprint\u001b[39m(\u001b[39m\"\u001b[39m\u001b[39mГенератор Блюма-Мікалі\u001b[39m\u001b[39m\"\u001b[39m)\n\u001b[1;32m---> <a href='vscode-notebook-cell:/h%3A/%D0%90%D0%90%D0%90/asym_crypto/lab1/lab1.ipynb#X22sZmlsZQ%3D%3D?line=15'>16</a>\u001b[0m test(BM_gen(n))\n",
      "\u001b[1;32mh:\\ААА\\asym_crypto\\lab1\\lab1.ipynb Cell 13\u001b[0m line \u001b[0;36m7\n\u001b[0;32m     <a href='vscode-notebook-cell:/h%3A/%D0%90%D0%90%D0%90/asym_crypto/lab1/lab1.ipynb#X22sZmlsZQ%3D%3D?line=68'>69</a>\u001b[0m \u001b[39mdef\u001b[39;00m \u001b[39mtest\u001b[39m(Y):\n\u001b[1;32m---> <a href='vscode-notebook-cell:/h%3A/%D0%90%D0%90%D0%90/asym_crypto/lab1/lab1.ipynb#X22sZmlsZQ%3D%3D?line=69'>70</a>\u001b[0m     \u001b[39mif\u001b[39;00m uniformity_test(Y):\n\u001b[0;32m     <a href='vscode-notebook-cell:/h%3A/%D0%90%D0%90%D0%90/asym_crypto/lab1/lab1.ipynb#X22sZmlsZQ%3D%3D?line=70'>71</a>\u001b[0m         \u001b[39mprint\u001b[39m(\u001b[39m\"\u001b[39m\u001b[39mВсі байти рівноімовірні.\u001b[39m\u001b[39m\"\u001b[39m)\n\u001b[0;32m     <a href='vscode-notebook-cell:/h%3A/%D0%90%D0%90%D0%90/asym_crypto/lab1/lab1.ipynb#X22sZmlsZQ%3D%3D?line=71'>72</a>\u001b[0m     \u001b[39melse\u001b[39;00m: \u001b[39mprint\u001b[39m(\u001b[39m\"\u001b[39m\u001b[39m1. :(\u001b[39m\u001b[39m\"\u001b[39m)\n",
      "\u001b[1;32mh:\\ААА\\asym_crypto\\lab1\\lab1.ipynb Cell 13\u001b[0m line \u001b[0;36m8\n\u001b[0;32m      <a href='vscode-notebook-cell:/h%3A/%D0%90%D0%90%D0%90/asym_crypto/lab1/lab1.ipynb#X22sZmlsZQ%3D%3D?line=5'>6</a>\u001b[0m     R[i] \u001b[39m=\u001b[39m \u001b[39m0\u001b[39m\n\u001b[0;32m      <a href='vscode-notebook-cell:/h%3A/%D0%90%D0%90%D0%90/asym_crypto/lab1/lab1.ipynb#X22sZmlsZQ%3D%3D?line=6'>7</a>\u001b[0m \u001b[39mfor\u001b[39;00m y \u001b[39min\u001b[39;00m Y:\n\u001b[1;32m----> <a href='vscode-notebook-cell:/h%3A/%D0%90%D0%90%D0%90/asym_crypto/lab1/lab1.ipynb#X22sZmlsZQ%3D%3D?line=7'>8</a>\u001b[0m     R[y] \u001b[39m+\u001b[39m\u001b[39m=\u001b[39m \u001b[39m1\u001b[39m\n\u001b[0;32m      <a href='vscode-notebook-cell:/h%3A/%D0%90%D0%90%D0%90/asym_crypto/lab1/lab1.ipynb#X22sZmlsZQ%3D%3D?line=8'>9</a>\u001b[0m     X2 \u001b[39m+\u001b[39m\u001b[39m=\u001b[39m (R[y] \u001b[39m-\u001b[39m n) \u001b[39m*\u001b[39m\u001b[39m*\u001b[39m \u001b[39m2\u001b[39m \u001b[39m/\u001b[39m n\n\u001b[0;32m     <a href='vscode-notebook-cell:/h%3A/%D0%90%D0%90%D0%90/asym_crypto/lab1/lab1.ipynb#X22sZmlsZQ%3D%3D?line=9'>10</a>\u001b[0m X2_l \u001b[39m=\u001b[39m sqrt(\u001b[39m2\u001b[39m \u001b[39m*\u001b[39m \u001b[39m255\u001b[39m) \u001b[39m*\u001b[39m scipy\u001b[39m.\u001b[39mstats\u001b[39m.\u001b[39mnorm\u001b[39m.\u001b[39mppf(\u001b[39m1\u001b[39m \u001b[39m-\u001b[39m alpha) \u001b[39m+\u001b[39m \u001b[39m255\u001b[39m\n",
      "\u001b[1;31mKeyError\u001b[0m: 2.438235082348006e+76"
     ]
    }
   ],
   "source": [
    "#BM\n",
    "def BM_gen(t):\n",
    "    seq = np.zeros(t)\n",
    "    p = 0xCEA42B987C44FA642D80AD9F51F10457690DEF10C83D0BC1BCEE12FC3B6093E3\n",
    "    a = 0x5B88C41246790891C095E2878880342E88C79974303BD0400B090FE38A688356\n",
    "    T_0 = random.randint(0, p - 1)\n",
    "    seq[0] = T_0\n",
    "    for i in range(1, t):\n",
    "        T_i = pow(a, T_0, p)\n",
    "        seq[i] = T_i\n",
    "        T_0 = T_i\n",
    "    print(1)\n",
    "    return seq\n",
    "\n",
    "print(\"Генератор Блюма-Мікалі\")\n",
    "test(BM_gen(n))  "
   ]
  },
  {
   "cell_type": "code",
   "execution_count": 12,
   "metadata": {},
   "outputs": [
    {
     "name": "stdout",
     "output_type": "stream",
     "text": [
      "Генератор Блюм-Блюма-Шуба\n",
      "Всі байти рівноімовірні.\n",
      "Всі байти незалежні.\n",
      "Послідовність однорідна\n"
     ]
    }
   ],
   "source": [
    "#BBS \n",
    "def BBS_gen(t):\n",
    "    seq = np.zeros(t)\n",
    "    p = 0xD5BBB96D30086EC484EBA3D7F9CAEB07\n",
    "    q = 0x425D2B9BFDB25B9CF6C416CC6E37B59C1F\n",
    "    n = p * q\n",
    "    r_0 = random.randint(2, n)\n",
    "    for i in range(t):\n",
    "        r_i = pow(r_0, 2, n)\n",
    "        seq[i] = r_i % 256\n",
    "        r_0 = r_i \n",
    "    return seq \n",
    "\n",
    "print(\"Генератор Блюм-Блюма-Шуба\")\n",
    "test(BBS_gen(n))  "
   ]
  },
  {
   "cell_type": "code",
   "execution_count": null,
   "metadata": {},
   "outputs": [
    {
     "name": "stdout",
     "output_type": "stream",
     "text": [
      "93466510612868436543809057926265637055082661966786875228460721852868821292003\n",
      "35145321545597973450803825903772685215011388900359849200685246097149295746285\n"
     ]
    }
   ],
   "source": [
    "p = int(0xCEA42B987C44FA642D80AD9F51F10457690DEF10C83D0BC1BCEE12FC3B6093E3)\n",
    "print(p)\n",
    "print(random.randint(0, p - 1))"
   ]
  },
  {
   "cell_type": "code",
   "execution_count": 55,
   "metadata": {},
   "outputs": [
    {
     "name": "stdout",
     "output_type": "stream",
     "text": [
      "[  9 189  93 ... 180 202 102]\n",
      "500000\n"
     ]
    },
    {
     "name": "stdout",
     "output_type": "stream",
     "text": [
      "Всі байти рівноімовірні.\n",
      "Всі байти незалежні.\n",
      "Послідовність однорідна\n"
     ]
    }
   ],
   "source": [
    "\n",
    "print(\"Генератор Лемера low\")\n",
    "test(lemer_gen(\"low\", n))\n",
    "\n",
    "print(\"Генератор Лемера low\")\n",
    "test(lemer_gen(\"low\", n))"
   ]
  }
 ],
 "metadata": {
  "kernelspec": {
   "display_name": "Python 3",
   "language": "python",
   "name": "python3"
  },
  "language_info": {
   "codemirror_mode": {
    "name": "ipython",
    "version": 3
   },
   "file_extension": ".py",
   "mimetype": "text/x-python",
   "name": "python",
   "nbconvert_exporter": "python",
   "pygments_lexer": "ipython3",
   "version": "3.10.11"
  },
  "orig_nbformat": 4
 },
 "nbformat": 4,
 "nbformat_minor": 2
}
