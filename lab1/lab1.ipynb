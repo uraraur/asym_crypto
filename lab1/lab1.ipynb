{
 "cells": [
  {
   "cell_type": "code",
   "execution_count": 5,
   "metadata": {},
   "outputs": [],
   "source": [
    "import random\n",
    "import numpy as np  "
   ]
  },
  {
   "cell_type": "code",
   "execution_count": 6,
   "metadata": {},
   "outputs": [],
   "source": [
    "def cyclic_right_shift(num, k, n):\n",
    "    return (num >> k) | (num << (n - k))\n",
    "\n",
    "def cyclic_left_shift(num, k, n):\n",
    "    return (num << k) | (num >> (n - k))\n",
    "\n",
    "def bits_to_bytes(a):\n",
    "    i = 0\n",
    "    res = []\n",
    "    for i in range(0, len(a) - 1, 8):\n",
    "        x = a[i:i + 8]\n",
    "        y = 0\n",
    "        for j in range(len(x)):\n",
    "            y += 2 ** j * x[j]\n",
    "        res.append(y)   \n",
    "    return res"
   ]
  },
  {
   "attachments": {},
   "cell_type": "markdown",
   "metadata": {},
   "source": [
    "Генератори: "
   ]
  },
  {
   "cell_type": "code",
   "execution_count": 7,
   "metadata": {},
   "outputs": [],
   "source": [
    "m = 2 ** 32\n",
    "a = 2 ** 16 + 1\n",
    "c = 119 \n",
    "\n",
    "#\n",
    "#Вбудований:\n",
    "def integrated_gen(n):\n",
    "    seq = np.random.randint(256, size=(n))\n",
    "    return seq\n",
    "\n",
    "#Лемера:\n",
    "def lemer_gen(state, x_0, n):\n",
    "    i = 0\n",
    "    x_i = 0\n",
    "    while i != n:\n",
    "        x_i = (a * x_0 + c) % m\n",
    "        x_0 = x_i\n",
    "        i += 1\n",
    "    print(x_i)\n",
    "    if state == \"low\":\n",
    "        return x_i % (2**8)\n",
    "    elif \"high\": \n",
    "        return (x_i >> 24)\n",
    "\n",
    "#L20       \n",
    "def l20_gen(t):\n",
    "    seq = np.random.randint(2, size=(20))\n",
    "    for j in range(20, t):\n",
    "        seq = np.append(seq, (seq[j - 3] ^ seq[j - 5] ^ seq[j - 9] ^ seq[j - 20]))\n",
    "    return bits_to_bytes(seq)\n",
    "\n",
    "#L89\n",
    "def l89_gen(t):\n",
    "    seq = np.random.randint(2, size=(89))\n",
    "    for j in range(89, t):\n",
    "        seq = np.append(seq, (seq[j - 38] ^ seq[j - 89]))\n",
    "    return bits_to_bytes(seq)\n",
    "\n",
    "#Geffe\n",
    "def geffe_gen(t):\n",
    "    x = np.random.randint(2, size=(10))\n",
    "    y = np.random.randint(2, size=(8))\n",
    "    s = np.random.randint(2, size=(9))\n",
    "    z = np.zeros(t)\n",
    "    for i in range(len(x), t):\n",
    "        x = np.append(x, (x[i - 11] ^ x[i - 9]))\n",
    "    for i in range(len(y), t):\n",
    "        y = np.append(y, (y[i - 9] ^ y[i - 8] ^ y[i - 7] ^ y[i - 6]))\n",
    "    for i in range(len(s), t):\n",
    "        s = np.append(s, (s[i - 10] ^ s[i - 7]))\n",
    "    z = s & x ^ (1 ^ s) & y\n",
    "    return bits_to_bytes(z)\n",
    "\n",
    "#Wolfram\n",
    "def wolfram_gen(t):\n",
    "    r = []\n",
    "    r.append(random.randint(1, (2 ** 32) - 1))\n",
    "    seq = []\n",
    "    for i in range(t):\n",
    "        seq.append(r[i] % 2)\n",
    "        r.append(cyclic_left_shift(r[i], 1, 32) ^ (r[i] | (cyclic_right_shift(r[i], 1, 32))))\n",
    "    return seq\n",
    "\n",
    "#Бібліотекар\n",
    "def librarian_gen(n, name_f):\n",
    "    f = open(name_f, 'r', encoding='utf-8')\n",
    "    text = f.read()\n",
    "    f.close()\n",
    "    \n",
    "\n",
    "    \n"
   ]
  },
  {
   "cell_type": "code",
   "execution_count": 8,
   "metadata": {},
   "outputs": [
    {
     "name": "stdout",
     "output_type": "stream",
     "text": [
      "[1, 1, 0, 0, 1, 0, 1, 0, 1, 1, 1, 0, 1, 1, 0]\n"
     ]
    }
   ],
   "source": [
    "print(wolfram_gen(15))"
   ]
  }
 ],
 "metadata": {
  "kernelspec": {
   "display_name": "Python 3",
   "language": "python",
   "name": "python3"
  },
  "language_info": {
   "codemirror_mode": {
    "name": "ipython",
    "version": 3
   },
   "file_extension": ".py",
   "mimetype": "text/x-python",
   "name": "python",
   "nbconvert_exporter": "python",
   "pygments_lexer": "ipython3",
   "version": "3.10.11"
  },
  "orig_nbformat": 4
 },
 "nbformat": 4,
 "nbformat_minor": 2
}
