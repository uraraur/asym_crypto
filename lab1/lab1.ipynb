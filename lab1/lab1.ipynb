{
 "cells": [
  {
   "cell_type": "code",
   "execution_count": 181,
   "metadata": {},
   "outputs": [],
   "source": [
    "import random\n",
    "import numpy as np  \n",
    "import scipy\n",
    "from math import sqrt\n",
    "import matplotlib.pyplot as plt"
   ]
  },
  {
   "cell_type": "code",
   "execution_count": 182,
   "metadata": {},
   "outputs": [],
   "source": [
    "alpha = 0.1\n",
    "n = 2000000\n",
    "r = 1000\n",
    "\n",
    "def cyclic_right_shift(num, k, n):\n",
    "    return int(((num >> k) | (num << (n - k))) % (2 ** n))\n",
    "\n",
    "def cyclic_left_shift(num, k, n):\n",
    "    return int(((num << k) | (num >> (n - k))) % (2 ** n))\n",
    "\n",
    "def bits_to_bytes(a):\n",
    "    i = 0\n",
    "    res = []\n",
    "    for i in range(0, len(a) - 1, 8):\n",
    "        x = a[i:i + 8]\n",
    "        y = 0\n",
    "        for j in range(len(x)):\n",
    "            y += 2 ** j * x[j]\n",
    "        res.append(y)   \n",
    "    return res"
   ]
  },
  {
   "cell_type": "markdown",
   "metadata": {},
   "source": [
    "Тести:"
   ]
  },
  {
   "cell_type": "code",
   "execution_count": 183,
   "metadata": {},
   "outputs": [],
   "source": [
    "data = ['теоретичний \\u03C7^2','вбудований г-р python', 'LehmerLow','LehmerHigh','L20','L89','Джиффі','«Бібліотекар»','Вольфрама','Блюма-Мікалі BM','BBS']\n",
    "val_uniformity = []\n",
    "val_uniformity.append(sqrt(2 * 255) * scipy.stats.norm.ppf(1 - alpha) + 255)\n",
    "val_independence = []\n",
    "val_independence.append(sqrt(2 * 255 ** 2) * scipy.stats.norm.ppf(1 - alpha) + 255 ** 2)\n",
    "val_homogeneity = []\n",
    "val_homogeneity.append(sqrt(2 * 255 * (r - 1)) * scipy.stats.norm.ppf(1 - alpha) +  255 * (r - 1))\n",
    "\n",
    "def uniformity_test(Y):\n",
    "    R = {}\n",
    "    n = len(Y) / 256\n",
    "    X2 = 0 \n",
    "    for i in range(256):\n",
    "        R[i] = 0\n",
    "    for y in Y:\n",
    "        R[y] += 1\n",
    "    for i in range(256):\n",
    "        X2 += (R[i] - n) ** 2 / n\n",
    "    X2_l = sqrt(2 * 255) * scipy.stats.norm.ppf(1 - alpha) + 255\n",
    "\n",
    "    print(f\"X2:{X2}\")\n",
    "    print(f\"X2_l:{X2_l}\")\n",
    "    val_uniformity.append(X2)\n",
    "    if X2 <= X2_l:\n",
    "        return 1\n",
    "    return 0\n",
    "\n",
    "def independence_test(Y):\n",
    "    R = {}\n",
    "    R1 = {}\n",
    "    R2 = {}\n",
    "    n = round(len(Y) / 2)\n",
    "    p = 0\n",
    "\n",
    "    for i in range(256):\n",
    "        R1[i] = 0\n",
    "        R2[i] = 0\n",
    "        for j in range(256):\n",
    "            R[i, j] = 0\n",
    "\n",
    "    while 2 * p + 1 <= len(Y):\n",
    "        R[Y[2*p], Y[2 * p + 1]] += 1\n",
    "        p = p + 1\n",
    "\n",
    "    for i in range(256):\n",
    "        for k in R.keys():\n",
    "                if k[0] == i:\n",
    "                    R1[i] += R[k]\n",
    "        for k in R.keys():\n",
    "                if k[1] == i:\n",
    "                    R2[i] += R[k]\n",
    "    X2 = 0\n",
    "    for i in range(256):\n",
    "        for j in range(256):\n",
    "            if R[i,j] != 0 and R1[i] != 0 and R2[j] != 0 :\n",
    "                X2 += R[i,j] ** 2 / (R1[i] * R2[j])\n",
    "    X2 = n * (X2 - 1)\n",
    "    X2_l = sqrt(2 * 255 ** 2) * scipy.stats.norm.ppf(1 - alpha) + 255 ** 2\n",
    "\n",
    "    val_independence.append(X2)\n",
    "    print(f\"X2:{X2}\")\n",
    "    print(f\"X2_l:{X2_l}\")\n",
    "    if X2 <= X2_l:\n",
    "        return 1\n",
    "    return 0    \n",
    "\n",
    "def homogeneity_test(Y):\n",
    "    R = {}\n",
    "    r = 1000\n",
    "    m_len = round(len(Y) / r)\n",
    "    n = m_len * r\n",
    "\n",
    "    for i in range(256):\n",
    "        R[i] = 0\n",
    "    for y in Y:\n",
    "        R[y] += 1\n",
    "    R_interval = np.zeros((r, 256))\n",
    "    for i in range(r):\n",
    "        for j in range(m_len):\n",
    "            num = Y[r * i + j]\n",
    "            R_interval[i, num] += 1\n",
    "\n",
    "    X2 = 0\n",
    "    for i in range(0, r):\n",
    "        for j in range(256):\n",
    "            if R[j] != 0:\n",
    "                X2 += R_interval[i, j] ** 2 / (R[j] * m_len)\n",
    "    X2 = n * (X2 - 1)\n",
    "    X2_l = sqrt(2 * 255 * (r - 1)) * scipy.stats.norm.ppf(1 - alpha) +  255 * (r - 1)\n",
    "\n",
    "    val_homogeneity.append(X2)\n",
    "    print(f\"X2:{X2}\")\n",
    "    print(f\"X2_l:{X2_l}\")\n",
    "    if X2 <= X2_l:\n",
    "        return 1\n",
    "    return 0      \n",
    "\n",
    "\n",
    "def test(Y):\n",
    "    if uniformity_test(Y):\n",
    "        print(\"1.Тест на рівноімовірність знаків: :)\")\n",
    "    else: print(\"1. :(\")\n",
    "    if independence_test(Y):\n",
    "        print(\"2.Тест на незалежність знаків: :)\")\n",
    "    else: print(\"2. :(\")\n",
    "    if homogeneity_test(Y):\n",
    "        print(\"3.Тест на однорідність послідовності: :)\")\n",
    "    else: print(\"3. :(\")"
   ]
  },
  {
   "attachments": {},
   "cell_type": "markdown",
   "metadata": {},
   "source": [
    "Генератори: "
   ]
  },
  {
   "cell_type": "code",
   "execution_count": 184,
   "metadata": {},
   "outputs": [
    {
     "name": "stdout",
     "output_type": "stream",
     "text": [
      "Вбудований генератор:\n",
      "X2:255.4851840000001\n",
      "X2_l:283.9415091473545\n",
      "1.Тест на рівноімовірність знаків: :)\n",
      "X2:65561.64903709493\n",
      "X2_l:65487.15883924278\n",
      "2. :(\n",
      "X2:254497.54728915598\n",
      "X2_l:255659.75315838464\n",
      "3.Тест на однорідність послідовності: :)\n"
     ]
    }
   ],
   "source": [
    "#Вбудований:\n",
    "def integrated_gen(n):\n",
    "    seq = np.random.randint(256, size=(n))\n",
    "    return seq\n",
    "\n",
    "print(\"Вбудований генератор:\")\n",
    "test(integrated_gen(n))"
   ]
  },
  {
   "cell_type": "code",
   "execution_count": 185,
   "metadata": {},
   "outputs": [
    {
     "name": "stdout",
     "output_type": "stream",
     "text": [
      "Генератор Лемера low\n",
      "X2:0.008191999999999991\n",
      "X2_l:283.9415091473545\n",
      "1.Тест на рівноімовірність знаків: :)\n",
      "X2:127000000.0\n",
      "X2_l:65487.15883924278\n",
      "2. :(\n",
      "X2:4991.998383046425\n",
      "X2_l:255659.75315838464\n",
      "3.Тест на однорідність послідовності: :)\n",
      "\n",
      "\n",
      "Генератор Лемера high\n",
      "X2:18.875135999999976\n",
      "X2_l:283.9415091473545\n",
      "1.Тест на рівноімовірність знаків: :)\n",
      "X2:59657.39227690481\n",
      "X2_l:65487.15883924278\n",
      "2.Тест на незалежність знаків: :)\n",
      "X2:252051.58079614697\n",
      "X2_l:255659.75315838464\n",
      "3.Тест на однорідність послідовності: :)\n"
     ]
    }
   ],
   "source": [
    "#Лемера:\n",
    "def lemer_gen(state, t):\n",
    "    m = 2 ** 32\n",
    "    a = 2 ** 16 + 1\n",
    "    c = 119 \n",
    "    seq = np.zeros(t, dtype = int)\n",
    "    x_i = 0\n",
    "    x_0 = random.randint(1, 2 ** 8)\n",
    "    for i in range(t):\n",
    "        x_i = (a * x_0 + c) % m\n",
    "        x_0 = x_i\n",
    "        if state == \"low\":\n",
    "            seq[i] = x_i % (2**8)\n",
    "        elif \"high\": \n",
    "            seq[i] = x_i >> 24\n",
    "    return seq \n",
    "\n",
    "print(\"Генератор Лемера low\")\n",
    "test(lemer_gen(\"low\", n))\n",
    "print(\"\\n\")\n",
    "print(\"Генератор Лемера high\")\n",
    "test(lemer_gen(\"high\", n))"
   ]
  },
  {
   "cell_type": "code",
   "execution_count": 186,
   "metadata": {},
   "outputs": [
    {
     "name": "stdout",
     "output_type": "stream",
     "text": [
      "Генератор L20\n",
      "X2:11.85919999999999\n",
      "X2_l:283.9415091473545\n",
      "1.Тест на рівноімовірність знаків: :)\n",
      "X2:2991.3408248307683\n",
      "X2_l:65487.15883924278\n",
      "2.Тест на незалежність знаків: :)\n",
      "X2:254367.89975024742\n",
      "X2_l:255659.75315838464\n",
      "3.Тест на однорідність послідовності: :)\n"
     ]
    }
   ],
   "source": [
    "#L20       \n",
    "def l20_gen(t):\n",
    "    seq = [0] * 8 * t\n",
    "    for i in range(20):\n",
    "        seq[i] = np.random.randint(2)\n",
    "    for j in range(20, 8 * t):\n",
    "        seq[j] = seq[j - 3] ^ seq[j - 5] ^ seq[j - 9] ^ seq[j - 20]\n",
    "    return bits_to_bytes(seq)\n",
    "\n",
    "print(\"Генератор L20\")\n",
    "test(l20_gen(n))    "
   ]
  },
  {
   "cell_type": "code",
   "execution_count": 187,
   "metadata": {},
   "outputs": [
    {
     "name": "stdout",
     "output_type": "stream",
     "text": [
      "Генератор L89\n",
      "X2:289.9466240000001\n",
      "X2_l:283.9415091473545\n",
      "1. :(\n",
      "X2:64679.0201246632\n",
      "X2_l:65487.15883924278\n",
      "2.Тест на незалежність знаків: :)\n",
      "X2:254774.0689086968\n",
      "X2_l:255659.75315838464\n",
      "3.Тест на однорідність послідовності: :)\n"
     ]
    }
   ],
   "source": [
    "#L89\n",
    "def l89_gen(t):\n",
    "    seq = [0] * 8 * t\n",
    "    for i in range(89):\n",
    "        seq[i] = np.random.randint(2)\n",
    "    for j in range(89, 8 * t):\n",
    "        seq[j] = seq[j - 38] ^ seq[j - 89]\n",
    "    return bits_to_bytes(seq)\n",
    "\n",
    "print(\"Генератор L89\")\n",
    "test(l89_gen(n))    "
   ]
  },
  {
   "cell_type": "code",
   "execution_count": 188,
   "metadata": {},
   "outputs": [
    {
     "name": "stdout",
     "output_type": "stream",
     "text": [
      "Генератор Джиффі\n",
      "X2:237.47942399999997\n",
      "X2_l:283.9415091473545\n",
      "1.Тест на рівноімовірність знаків: :)\n",
      "X2:185088.67994058132\n",
      "X2_l:65487.15883924278\n",
      "2. :(\n",
      "X2:245496.72338689276\n",
      "X2_l:255659.75315838464\n",
      "3.Тест на однорідність послідовності: :)\n"
     ]
    }
   ],
   "source": [
    "#Geffe\n",
    "def geffe_gen(t):\n",
    "    x = np.random.randint(2, size=(11))\n",
    "    x = np.concatenate((x, np.zeros(8 * t - 11, dtype=int)))\n",
    "    y = np.random.randint(2, size=(9))\n",
    "    y = np.concatenate((y, np.zeros(8 * t - 9, dtype=int)))\n",
    "    for i in range(9, 11):\n",
    "        y[i] = (y[i - 9] ^ y[i - 8] ^ y[i - 6] ^ y[i - 5])\n",
    "    s = np.random.randint(2, size=(10))\n",
    "    s = np.concatenate((s, np.zeros(8 * t - 10, dtype=int)))\n",
    "    s[10] = (s[0] ^ s[3])\n",
    "    z = np.zeros(8 * t, dtype = int)\n",
    "    for i in range(11, 8 * t):\n",
    "        x[i] = (x[i - 11] ^ x[i - 9])\n",
    "        y[i] = (y[i - 9] ^ y[i - 8] ^ y[i - 6] ^ y[i - 5])\n",
    "        s[i] = (s[i - 10] ^ s[i - 7])\n",
    "    for i in range(8 * t):\n",
    "        z[i] = s[i] & x[i] ^ (1 ^ s[i]) & y[i]\n",
    "    return bits_to_bytes(z)\n",
    "\n",
    "print(\"Генератор Джиффі\")\n",
    "test(geffe_gen(n))    "
   ]
  },
  {
   "cell_type": "code",
   "execution_count": 189,
   "metadata": {},
   "outputs": [
    {
     "name": "stdout",
     "output_type": "stream",
     "text": [
      "Генератор Вольфрама\n",
      "X2:5534.523647999996\n",
      "X2_l:283.9415091473545\n",
      "1. :(\n",
      "X2:1203761.4529355336\n",
      "X2_l:65487.15883924278\n",
      "2. :(\n",
      "X2:251436.71037422522\n",
      "X2_l:255659.75315838464\n",
      "3.Тест на однорідність послідовності: :)\n"
     ]
    }
   ],
   "source": [
    "#Wolfram\n",
    "def wolfram_gen(t):\n",
    "    r_0 = random.randint(1, (2 ** 32) - 1)\n",
    "    seq = np.zeros(8 * t, dtype = int)\n",
    "    for i in range(8 * t):\n",
    "        seq[i] = r_0 % 2\n",
    "        r_1 = (cyclic_left_shift(r_0, 1, 32)  ^ (r_0 | (cyclic_right_shift(r_0, 1, 32)))) \n",
    "        r_0 = r_1\n",
    "    return bits_to_bytes(seq)\n",
    "\n",
    "print(\"Генератор Вольфрама\")\n",
    "test(wolfram_gen(n))  "
   ]
  },
  {
   "cell_type": "code",
   "execution_count": 190,
   "metadata": {},
   "outputs": [
    {
     "name": "stdout",
     "output_type": "stream",
     "text": [
      "Генератор Бібліотекар\n",
      "X2:32169936.32921601\n",
      "X2_l:283.9415091473545\n",
      "1. :(\n",
      "X2:7552550.51798276\n",
      "X2_l:65487.15883924278\n",
      "2. :(\n",
      "X2:289609.25169960206\n",
      "X2_l:255659.75315838464\n",
      "3. :(\n"
     ]
    }
   ],
   "source": [
    "#Бібліотекар\n",
    "def librarian_gen(n, name_f):\n",
    "    f = open(name_f, 'r', encoding='utf-8')\n",
    "    text = f.read()\n",
    "    f.close()\n",
    "    seq_b = bytes(text, 'utf-8')\n",
    "    seq = np.zeros(n, dtype= int)\n",
    "    for i in range(n):\n",
    "        seq[i] = int(seq_b[i])\n",
    "    #for s in seq:\n",
    "    #    print(s)\n",
    "    return seq\n",
    "\n",
    "print(\"Генератор Бібліотекар\")\n",
    "test(librarian_gen(n, \"At the Edge of Lasglen.txt\"))  "
   ]
  },
  {
   "cell_type": "code",
   "execution_count": 191,
   "metadata": {},
   "outputs": [
    {
     "name": "stdout",
     "output_type": "stream",
     "text": [
      "Генератор Блюма-Мікалі\n",
      "X2:247.44268799999995\n",
      "X2_l:283.9415091473545\n",
      "1.Тест на рівноімовірність знаків: :)\n",
      "X2:64984.658848068924\n",
      "X2_l:65487.15883924278\n",
      "2.Тест на незалежність знаків: :)\n",
      "X2:255037.05810653622\n",
      "X2_l:255659.75315838464\n",
      "3.Тест на однорідність послідовності: :)\n"
     ]
    }
   ],
   "source": [
    "#BM\n",
    "def BM_bits_gen(t):\n",
    "    seq = np.zeros(8 * t, dtype = int)\n",
    "    p = 0xCEA42B987C44FA642D80AD9F51F10457690DEF10C83D0BC1BCEE12FC3B6093E3\n",
    "    a = 0x5B88C41246790891C095E2878880342E88C79974303BD0400B090FE38A688356\n",
    "    T_0 = random.randint(0, p - 1)\n",
    "    for i in range(0, 8 * t):\n",
    "        T_i = T_0\n",
    "        if T_i < (p-1)/2:\n",
    "            seq[i] = 1\n",
    "        elif T_i >= (p-1)/2:\n",
    "            seq[i] = 0\n",
    "        T_i = pow(a, T_0, p)\n",
    "        T_0 = T_i\n",
    "    return bits_to_bytes(seq)\n",
    "\n",
    "def BM_bytes_gen(t):\n",
    "    seq = np.zeros(t, dtype = int)\n",
    "    p = 0xCEA42B987C44FA642D80AD9F51F10457690DEF10C83D0BC1BCEE12FC3B6093E3\n",
    "    a = 0x5B88C41246790891C095E2878880342E88C79974303BD0400B090FE38A688356\n",
    "    T_0 = random.randint(0, p - 1)\n",
    "    seq[0] = T_0 * 256 // (p - 1)\n",
    "    for i in range(1, t):\n",
    "        T_i = pow(a, T_0, p)\n",
    "        seq[i] = T_i * 256 // (p - 1)\n",
    "        T_0 = T_i\n",
    "    return seq\n",
    "\n",
    "print(\"Генератор Блюма-Мікалі\")\n",
    "test(BM_bytes_gen(n))  "
   ]
  },
  {
   "cell_type": "code",
   "execution_count": 192,
   "metadata": {},
   "outputs": [
    {
     "name": "stdout",
     "output_type": "stream",
     "text": [
      "Генератор Блюм-Блюма-Шуба\n",
      "X2:201.43411199999994\n",
      "X2_l:283.9415091473545\n",
      "1.Тест на рівноімовірність знаків: :)\n",
      "X2:65004.10081014363\n",
      "X2_l:65487.15883924278\n",
      "2.Тест на незалежність знаків: :)\n",
      "X2:254445.90498692854\n",
      "X2_l:255659.75315838464\n",
      "3.Тест на однорідність послідовності: :)\n"
     ]
    }
   ],
   "source": [
    "#BBS \n",
    "def BBS_bits_gen(t):\n",
    "    seq = np.zeros(8 * t, dtype = int)\n",
    "    p = 0xD5BBB96D30086EC484EBA3D7F9CAEB07\n",
    "    q = 0x425D2B9BFDB25B9CF6C416CC6E37B59C1F\n",
    "    n = p * q\n",
    "    r_0 = random.randint(2, n)\n",
    "    for i in range(8 * t):\n",
    "        r_i = pow(r_0, 2, n)\n",
    "        seq[i] = r_i % 2\n",
    "        r_0 = r_i \n",
    "    return bits_to_bytes(seq) \n",
    "\n",
    "\n",
    "def BBS_bytes_gen(t):\n",
    "    seq = np.zeros(t, dtype = int)\n",
    "    p = 0xD5BBB96D30086EC484EBA3D7F9CAEB07\n",
    "    q = 0x425D2B9BFDB25B9CF6C416CC6E37B59C1F\n",
    "    n = p * q\n",
    "    r_0 = random.randint(2, n)\n",
    "    for i in range(t):\n",
    "        r_i = pow(r_0, 2, n)\n",
    "        seq[i] = r_i % 256\n",
    "        r_0 = r_i \n",
    "    return seq \n",
    "\n",
    "print(\"Генератор Блюм-Блюма-Шуба\")\n",
    "test(BBS_bytes_gen(n))  "
   ]
  },
  {
   "cell_type": "code",
   "execution_count": 193,
   "metadata": {},
   "outputs": [
    {
     "name": "stdout",
     "output_type": "stream",
     "text": [
      "[283.9415091473545, 255.4851840000001, 0.008191999999999991, 18.875135999999976, 11.85919999999999, 289.9466240000001, 237.47942399999997, 5534.523647999996, 32169936.32921601, 247.44268799999995, 201.43411199999994]\n",
      "[65487.15883924278, 65561.64903709493, 127000000.0, 59657.39227690481, 2991.3408248307683, 64679.0201246632, 185088.67994058132, 1203761.4529355336, 7552550.51798276, 64984.658848068924, 65004.10081014363]\n",
      "[255659.75315838464, 254497.54728915598, 4991.998383046425, 252051.58079614697, 254367.89975024742, 254774.0689086968, 245496.72338689276, 251436.71037422522, 289609.25169960206, 255037.05810653622, 254445.90498692854]\n"
     ]
    }
   ],
   "source": [
    "print(val_uniformity)\n",
    "print(val_independence)\n",
    "print(val_homogeneity)"
   ]
  }
 ],
 "metadata": {
  "kernelspec": {
   "display_name": "Python 3",
   "language": "python",
   "name": "python3"
  },
  "language_info": {
   "codemirror_mode": {
    "name": "ipython",
    "version": 3
   },
   "file_extension": ".py",
   "mimetype": "text/x-python",
   "name": "python",
   "nbconvert_exporter": "python",
   "pygments_lexer": "ipython3",
   "version": "3.10.11"
  },
  "orig_nbformat": 4
 },
 "nbformat": 4,
 "nbformat_minor": 2
}
